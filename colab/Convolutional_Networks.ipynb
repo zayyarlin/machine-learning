{
  "nbformat": 4,
  "nbformat_minor": 0,
  "metadata": {
    "colab": {
      "name": "Convolutional Networks",
      "version": "0.3.2",
      "provenance": [],
      "collapsed_sections": [],
      "include_colab_link": true
    },
    "kernelspec": {
      "name": "python3",
      "display_name": "Python 3"
    },
    "accelerator": "GPU"
  },
  "cells": [
    {
      "cell_type": "markdown",
      "metadata": {
        "id": "view-in-github",
        "colab_type": "text"
      },
      "source": [
        "<a href=\"https://colab.research.google.com/github/zayyarlin/machine-learning/blob/master/colab/Convolutional_Networks.ipynb\" target=\"_parent\"><img src=\"https://colab.research.google.com/assets/colab-badge.svg\" alt=\"Open In Colab\"/></a>"
      ]
    },
    {
      "cell_type": "code",
      "metadata": {
        "id": "DmUa_Xy0P-0L",
        "colab_type": "code",
        "colab": {}
      },
      "source": [
        "import tensorflow as tf\n",
        "from tensorflow.keras.models import Sequential\n",
        "from tensorflow.keras.layers import Dense, Dropout, Activation, Flatten, Conv2D, MaxPooling2D, Softmax\n",
        "from keras.utils import to_categorical"
      ],
      "execution_count": 0,
      "outputs": []
    },
    {
      "cell_type": "code",
      "metadata": {
        "id": "kjs_uAOsQQoN",
        "colab_type": "code",
        "colab": {
          "base_uri": "https://localhost:8080/",
          "height": 35
        },
        "outputId": "c476fffe-bd1d-433c-fcf1-e5c517165e90"
      },
      "source": [
        "tf.__version__"
      ],
      "execution_count": 59,
      "outputs": [
        {
          "output_type": "execute_result",
          "data": {
            "text/plain": [
              "'1.14.0'"
            ]
          },
          "metadata": {
            "tags": []
          },
          "execution_count": 59
        }
      ]
    },
    {
      "cell_type": "code",
      "metadata": {
        "id": "KWcVQnjC7KsW",
        "colab_type": "code",
        "colab": {}
      },
      "source": [
        "mnist = tf.keras.datasets.mnist.load_data()"
      ],
      "execution_count": 0,
      "outputs": []
    },
    {
      "cell_type": "code",
      "metadata": {
        "id": "m0UP72te7tcO",
        "colab_type": "code",
        "colab": {}
      },
      "source": [
        "train_x = mnist[0][0]\n",
        "train_y = mnist[0][1]\n",
        "test_x = mnist[1][0]\n",
        "test_y = mnist[1][1]\n",
        "\n",
        "train_x = train_x.reshape(train_x.shape[0], 28, 28, 1)\n",
        "test_x = test_x.reshape(test_x.shape[0], 28, 28, 1)"
      ],
      "execution_count": 0,
      "outputs": []
    },
    {
      "cell_type": "code",
      "metadata": {
        "id": "e4klVheU7wcF",
        "colab_type": "code",
        "colab": {}
      },
      "source": [
        "model = Sequential()"
      ],
      "execution_count": 0,
      "outputs": []
    },
    {
      "cell_type": "code",
      "metadata": {
        "id": "Qi0zNSmp8JlO",
        "colab_type": "code",
        "colab": {}
      },
      "source": [
        "model.add(Conv2D(filters=20,kernel_size=5,use_bias=True,input_shape=(28,28,1)))\n",
        "model.add(Activation('relu'))\n",
        "model.add(MaxPooling2D(pool_size= (2,2)))"
      ],
      "execution_count": 0,
      "outputs": []
    },
    {
      "cell_type": "code",
      "metadata": {
        "id": "n2sF1t669LGF",
        "colab_type": "code",
        "colab": {}
      },
      "source": [
        "model.add(Conv2D(filters=40,kernel_size=5,use_bias=True))\n",
        "model.add(Activation('relu'))\n",
        "model.add(MaxPooling2D(pool_size= (2,2)))"
      ],
      "execution_count": 0,
      "outputs": []
    },
    {
      "cell_type": "code",
      "metadata": {
        "id": "PMcN9_7Y9Vu6",
        "colab_type": "code",
        "colab": {}
      },
      "source": [
        "model.add(Flatten())\n",
        "model.add(Dense(300))\n",
        "model.add(Dense(10, activation=tf.nn.softmax))"
      ],
      "execution_count": 0,
      "outputs": []
    },
    {
      "cell_type": "code",
      "metadata": {
        "id": "xQ7VTTII-BOT",
        "colab_type": "code",
        "colab": {}
      },
      "source": [
        "model.compile(loss = 'categorical_crossentropy', \n",
        "                optimizer = 'adam', \n",
        "                metrics = ['accuracy'])"
      ],
      "execution_count": 0,
      "outputs": []
    },
    {
      "cell_type": "code",
      "metadata": {
        "id": "HwmuHNGx-zMT",
        "colab_type": "code",
        "colab": {
          "base_uri": "https://localhost:8080/",
          "height": 417
        },
        "outputId": "356f1721-63b7-4422-ca3d-a31aec684ff2"
      },
      "source": [
        "model.fit(train_x, to_categorical(train_y), batch_size = 32, epochs = 10, validation_split = 0.1)"
      ],
      "execution_count": 67,
      "outputs": [
        {
          "output_type": "stream",
          "text": [
            "Train on 54000 samples, validate on 6000 samples\n",
            "Epoch 1/10\n",
            "54000/54000 [==============================] - 6s 117us/sample - loss: 0.3843 - acc: 0.9410 - val_loss: 0.1010 - val_acc: 0.9707\n",
            "Epoch 2/10\n",
            "54000/54000 [==============================] - 6s 112us/sample - loss: 0.0957 - acc: 0.9729 - val_loss: 0.0744 - val_acc: 0.9802\n",
            "Epoch 3/10\n",
            "54000/54000 [==============================] - 6s 111us/sample - loss: 0.0905 - acc: 0.9756 - val_loss: 0.0723 - val_acc: 0.9848\n",
            "Epoch 4/10\n",
            "54000/54000 [==============================] - 6s 110us/sample - loss: 0.0763 - acc: 0.9781 - val_loss: 0.0611 - val_acc: 0.9842\n",
            "Epoch 5/10\n",
            "54000/54000 [==============================] - 6s 109us/sample - loss: 0.0755 - acc: 0.9793 - val_loss: 0.0616 - val_acc: 0.9835\n",
            "Epoch 6/10\n",
            "54000/54000 [==============================] - 6s 110us/sample - loss: 0.0717 - acc: 0.9804 - val_loss: 0.0764 - val_acc: 0.9803\n",
            "Epoch 7/10\n",
            "54000/54000 [==============================] - 6s 109us/sample - loss: 0.0601 - acc: 0.9831 - val_loss: 0.0695 - val_acc: 0.9828\n",
            "Epoch 8/10\n",
            "54000/54000 [==============================] - 6s 110us/sample - loss: 0.0623 - acc: 0.9831 - val_loss: 0.0887 - val_acc: 0.9772\n",
            "Epoch 9/10\n",
            "54000/54000 [==============================] - 6s 110us/sample - loss: 0.0556 - acc: 0.9850 - val_loss: 0.0964 - val_acc: 0.9795\n",
            "Epoch 10/10\n",
            "54000/54000 [==============================] - 6s 109us/sample - loss: 0.0533 - acc: 0.9865 - val_loss: 0.0897 - val_acc: 0.9812\n"
          ],
          "name": "stdout"
        },
        {
          "output_type": "execute_result",
          "data": {
            "text/plain": [
              "<tensorflow.python.keras.callbacks.History at 0x7f9bd00f4048>"
            ]
          },
          "metadata": {
            "tags": []
          },
          "execution_count": 67
        }
      ]
    },
    {
      "cell_type": "code",
      "metadata": {
        "id": "0CZFA0yW_A4r",
        "colab_type": "code",
        "colab": {
          "base_uri": "https://localhost:8080/",
          "height": 35
        },
        "outputId": "f7d3d2fb-7322-463d-d623-a4163a3acb70"
      },
      "source": [
        "tf.test.gpu_device_name()"
      ],
      "execution_count": 2,
      "outputs": [
        {
          "output_type": "execute_result",
          "data": {
            "text/plain": [
              "'/device:GPU:0'"
            ]
          },
          "metadata": {
            "tags": []
          },
          "execution_count": 2
        }
      ]
    },
    {
      "cell_type": "code",
      "metadata": {
        "id": "GKjDMYBc_EDw",
        "colab_type": "code",
        "colab": {
          "base_uri": "https://localhost:8080/",
          "height": 35
        },
        "outputId": "661879d0-873c-4248-b7ee-0fb809695268"
      },
      "source": [
        "train_x.shape"
      ],
      "execution_count": 20,
      "outputs": [
        {
          "output_type": "execute_result",
          "data": {
            "text/plain": [
              "(60000, 28, 28)"
            ]
          },
          "metadata": {
            "tags": []
          },
          "execution_count": 20
        }
      ]
    },
    {
      "cell_type": "code",
      "metadata": {
        "id": "_jyJQZr1AIUz",
        "colab_type": "code",
        "colab": {}
      },
      "source": [
        ""
      ],
      "execution_count": 0,
      "outputs": []
    }
  ]
}