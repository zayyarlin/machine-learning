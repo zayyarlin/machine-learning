{
  "nbformat": 4,
  "nbformat_minor": 0,
  "metadata": {
    "colab": {
      "name": "Convolutional Networks",
      "version": "0.3.2",
      "provenance": [],
      "collapsed_sections": [],
      "include_colab_link": true
    },
    "kernelspec": {
      "name": "python3",
      "display_name": "Python 3"
    },
    "accelerator": "GPU"
  },
  "cells": [
    {
      "cell_type": "markdown",
      "metadata": {
        "id": "view-in-github",
        "colab_type": "text"
      },
      "source": [
        "<a href=\"https://colab.research.google.com/github/zayyarlin/machine-learning/blob/master/colab/Convolutional_Networks.ipynb\" target=\"_parent\"><img src=\"https://colab.research.google.com/assets/colab-badge.svg\" alt=\"Open In Colab\"/></a>"
      ]
    },
    {
      "cell_type": "code",
      "metadata": {
        "id": "DmUa_Xy0P-0L",
        "colab_type": "code",
        "colab": {}
      },
      "source": [
        "import tensorflow as tf\n",
        "from tensorflow.keras.models import Sequential\n",
        "from tensorflow.keras.layers import Dense, Dropout, Activation, Flatten, Conv2D, MaxPooling2D, Softmax\n",
        "from keras.utils import to_categorical"
      ],
      "execution_count": 0,
      "outputs": []
    },
    {
      "cell_type": "code",
      "metadata": {
        "id": "kjs_uAOsQQoN",
        "colab_type": "code",
        "colab": {
          "base_uri": "https://localhost:8080/",
          "height": 35
        },
        "outputId": "c476fffe-bd1d-433c-fcf1-e5c517165e90"
      },
      "source": [
        "tf.__version__"
      ],
      "execution_count": 59,
      "outputs": [
        {
          "output_type": "execute_result",
          "data": {
            "text/plain": [
              "'1.14.0'"
            ]
          },
          "metadata": {
            "tags": []
          },
          "execution_count": 59
        }
      ]
    },
    {
      "cell_type": "code",
      "metadata": {
        "id": "KWcVQnjC7KsW",
        "colab_type": "code",
        "colab": {
          "base_uri": "https://localhost:8080/",
          "height": 53
        },
        "outputId": "32c8a3c8-06d5-43e2-e263-3cb64b30e5c3"
      },
      "source": [
        "mnist = tf.keras.datasets.mnist.load_data()\n",
        "cifar10 = tf.keras.datasets.cifar10.load_data()"
      ],
      "execution_count": 69,
      "outputs": [
        {
          "output_type": "stream",
          "text": [
            "Downloading data from https://www.cs.toronto.edu/~kriz/cifar-10-python.tar.gz\n",
            "170500096/170498071 [==============================] - 6s 0us/step\n"
          ],
          "name": "stdout"
        }
      ]
    },
    {
      "cell_type": "code",
      "metadata": {
        "id": "m0UP72te7tcO",
        "colab_type": "code",
        "colab": {}
      },
      "source": [
        "train_x = mnist[0][0]\n",
        "train_y = mnist[0][1]\n",
        "test_x = mnist[1][0]\n",
        "test_y = mnist[1][1]\n",
        "\n",
        "cifar_train_x = cifar10[0][0]\n",
        "cifar_train_y = cifar10[0][1]\n",
        "\n",
        "train_x = train_x.reshape(train_x.shape[0], 28, 28, 1)\n",
        "test_x = test_x.reshape(test_x.shape[0], 28, 28, 1)"
      ],
      "execution_count": 0,
      "outputs": []
    },
    {
      "cell_type": "markdown",
      "metadata": {
        "id": "tMasF5bEI7xN",
        "colab_type": "text"
      },
      "source": [
        ""
      ]
    },
    {
      "cell_type": "code",
      "metadata": {
        "id": "Qi0zNSmp8JlO",
        "colab_type": "code",
        "colab": {}
      },
      "source": [
        "model = Sequential()\n",
        "model.add(Conv2D(32, (3, 3), padding='same',\n",
        "                 input_shape=(32,32,3)))\n",
        "model.add(Activation('relu'))\n",
        "model.add(Conv2D(32, (3, 3)))\n",
        "model.add(Activation('relu'))\n",
        "model.add(MaxPooling2D(pool_size=(2, 2)))\n",
        "model.add(Dropout(0.25))\n",
        "\n",
        "model.add(Conv2D(64, (3, 3), padding='same'))\n",
        "model.add(Activation('relu'))\n",
        "model.add(Conv2D(64, (3, 3)))\n",
        "model.add(Activation('relu'))\n",
        "model.add(MaxPooling2D(pool_size=(2, 2)))\n",
        "model.add(Dropout(0.25))\n",
        "\n",
        "model.add(Flatten())\n",
        "model.add(Dense(512))\n",
        "model.add(Activation('relu'))\n",
        "model.add(Dropout(0.5))\n",
        "model.add(Dense(10))\n",
        "model.add(Activation('softmax'))"
      ],
      "execution_count": 0,
      "outputs": []
    },
    {
      "cell_type": "code",
      "metadata": {
        "id": "xQ7VTTII-BOT",
        "colab_type": "code",
        "colab": {}
      },
      "source": [
        "model.compile(loss = 'categorical_crossentropy', \n",
        "                optimizer = 'adam', \n",
        "                metrics = ['accuracy'])"
      ],
      "execution_count": 0,
      "outputs": []
    },
    {
      "cell_type": "code",
      "metadata": {
        "id": "HwmuHNGx-zMT",
        "colab_type": "code",
        "colab": {
          "base_uri": "https://localhost:8080/",
          "height": 1000
        },
        "outputId": "4b7e3073-8c3c-4992-ee08-19f1655d17b0"
      },
      "source": [
        "model.fit(cifar_train_x, to_categorical(cifar_train_y), batch_size = 32, epochs = 100, validation_split = 0.1)"
      ],
      "execution_count": 163,
      "outputs": [
        {
          "output_type": "stream",
          "text": [
            "Train on 45000 samples, validate on 5000 samples\n",
            "Epoch 1/100\n",
            "45000/45000 [==============================] - 9s 191us/sample - loss: 1.8499 - acc: 0.3628 - val_loss: 1.3619 - val_acc: 0.5226\n",
            "Epoch 2/100\n",
            "45000/45000 [==============================] - 8s 177us/sample - loss: 1.3615 - acc: 0.5139 - val_loss: 1.1423 - val_acc: 0.6032\n",
            "Epoch 3/100\n",
            "45000/45000 [==============================] - 8s 180us/sample - loss: 1.2132 - acc: 0.5740 - val_loss: 1.0306 - val_acc: 0.6412\n",
            "Epoch 4/100\n",
            "45000/45000 [==============================] - 8s 176us/sample - loss: 1.1349 - acc: 0.6040 - val_loss: 0.9933 - val_acc: 0.6630\n",
            "Epoch 5/100\n",
            "45000/45000 [==============================] - 8s 175us/sample - loss: 1.0689 - acc: 0.6250 - val_loss: 0.9134 - val_acc: 0.6924\n",
            "Epoch 6/100\n",
            "45000/45000 [==============================] - 8s 175us/sample - loss: 1.0325 - acc: 0.6402 - val_loss: 0.9745 - val_acc: 0.6658\n",
            "Epoch 7/100\n",
            "45000/45000 [==============================] - 8s 175us/sample - loss: 0.9977 - acc: 0.6532 - val_loss: 0.8890 - val_acc: 0.6956\n",
            "Epoch 8/100\n",
            "45000/45000 [==============================] - 8s 176us/sample - loss: 0.9758 - acc: 0.6607 - val_loss: 0.8359 - val_acc: 0.7136\n",
            "Epoch 9/100\n",
            "45000/45000 [==============================] - 8s 175us/sample - loss: 0.9422 - acc: 0.6748 - val_loss: 0.8184 - val_acc: 0.7244\n",
            "Epoch 10/100\n",
            "45000/45000 [==============================] - 8s 175us/sample - loss: 0.9278 - acc: 0.6782 - val_loss: 0.8466 - val_acc: 0.7078\n",
            "Epoch 11/100\n",
            "45000/45000 [==============================] - 8s 175us/sample - loss: 0.9065 - acc: 0.6869 - val_loss: 0.7971 - val_acc: 0.7282\n",
            "Epoch 12/100\n",
            "45000/45000 [==============================] - 8s 176us/sample - loss: 0.8958 - acc: 0.6907 - val_loss: 0.8678 - val_acc: 0.7040\n",
            "Epoch 13/100\n",
            "45000/45000 [==============================] - 8s 175us/sample - loss: 0.8856 - acc: 0.6956 - val_loss: 0.7998 - val_acc: 0.7314\n",
            "Epoch 14/100\n",
            "45000/45000 [==============================] - 8s 174us/sample - loss: 0.8698 - acc: 0.6982 - val_loss: 0.8034 - val_acc: 0.7266\n",
            "Epoch 15/100\n",
            "45000/45000 [==============================] - 8s 175us/sample - loss: 0.8577 - acc: 0.7064 - val_loss: 0.8034 - val_acc: 0.7258\n",
            "Epoch 16/100\n",
            "45000/45000 [==============================] - 8s 173us/sample - loss: 0.8494 - acc: 0.7092 - val_loss: 0.8223 - val_acc: 0.7196\n",
            "Epoch 17/100\n",
            "45000/45000 [==============================] - 8s 177us/sample - loss: 0.8305 - acc: 0.7141 - val_loss: 0.7979 - val_acc: 0.7264\n",
            "Epoch 18/100\n",
            "45000/45000 [==============================] - 8s 174us/sample - loss: 0.8327 - acc: 0.7121 - val_loss: 0.7734 - val_acc: 0.7342\n",
            "Epoch 19/100\n",
            "45000/45000 [==============================] - 8s 174us/sample - loss: 0.8237 - acc: 0.7161 - val_loss: 0.7907 - val_acc: 0.7336\n",
            "Epoch 20/100\n",
            "45000/45000 [==============================] - 8s 174us/sample - loss: 0.8150 - acc: 0.7206 - val_loss: 0.8121 - val_acc: 0.7256\n",
            "Epoch 21/100\n",
            "45000/45000 [==============================] - 8s 174us/sample - loss: 0.8058 - acc: 0.7236 - val_loss: 0.8660 - val_acc: 0.7142\n",
            "Epoch 22/100\n",
            "45000/45000 [==============================] - 8s 174us/sample - loss: 0.8137 - acc: 0.7217 - val_loss: 0.8534 - val_acc: 0.7190\n",
            "Epoch 23/100\n",
            "45000/45000 [==============================] - 8s 174us/sample - loss: 0.8110 - acc: 0.7238 - val_loss: 0.7876 - val_acc: 0.7364\n",
            "Epoch 24/100\n",
            "45000/45000 [==============================] - 8s 174us/sample - loss: 0.7862 - acc: 0.7290 - val_loss: 0.7975 - val_acc: 0.7312\n",
            "Epoch 25/100\n",
            "45000/45000 [==============================] - 8s 176us/sample - loss: 0.7828 - acc: 0.7303 - val_loss: 0.8425 - val_acc: 0.7178\n",
            "Epoch 26/100\n",
            "45000/45000 [==============================] - 8s 174us/sample - loss: 0.7804 - acc: 0.7340 - val_loss: 0.7884 - val_acc: 0.7334\n",
            "Epoch 27/100\n",
            "45000/45000 [==============================] - 8s 175us/sample - loss: 0.7667 - acc: 0.7391 - val_loss: 0.8387 - val_acc: 0.7122\n",
            "Epoch 28/100\n",
            "45000/45000 [==============================] - 8s 175us/sample - loss: 0.7725 - acc: 0.7365 - val_loss: 0.7528 - val_acc: 0.7530\n",
            "Epoch 29/100\n",
            "45000/45000 [==============================] - 8s 175us/sample - loss: 0.7534 - acc: 0.7416 - val_loss: 0.8213 - val_acc: 0.7186\n",
            "Epoch 30/100\n",
            "45000/45000 [==============================] - 8s 174us/sample - loss: 0.7593 - acc: 0.7410 - val_loss: 0.8526 - val_acc: 0.7166\n",
            "Epoch 31/100\n",
            "45000/45000 [==============================] - 8s 175us/sample - loss: 0.7588 - acc: 0.7413 - val_loss: 0.7976 - val_acc: 0.7292\n",
            "Epoch 32/100\n",
            "45000/45000 [==============================] - 8s 174us/sample - loss: 0.7419 - acc: 0.7467 - val_loss: 0.8017 - val_acc: 0.7374\n",
            "Epoch 33/100\n",
            "45000/45000 [==============================] - 8s 175us/sample - loss: 0.7259 - acc: 0.7530 - val_loss: 0.7649 - val_acc: 0.7412\n",
            "Epoch 34/100\n",
            "45000/45000 [==============================] - 8s 175us/sample - loss: 0.7331 - acc: 0.7508 - val_loss: 0.8032 - val_acc: 0.7322\n",
            "Epoch 35/100\n",
            "45000/45000 [==============================] - 8s 174us/sample - loss: 0.7383 - acc: 0.7484 - val_loss: 0.8159 - val_acc: 0.7180\n",
            "Epoch 36/100\n",
            "45000/45000 [==============================] - 8s 175us/sample - loss: 0.7259 - acc: 0.7542 - val_loss: 0.8353 - val_acc: 0.7212\n",
            "Epoch 37/100\n",
            "45000/45000 [==============================] - 8s 176us/sample - loss: 0.7292 - acc: 0.7523 - val_loss: 0.7697 - val_acc: 0.7424\n",
            "Epoch 38/100\n",
            "45000/45000 [==============================] - 8s 176us/sample - loss: 0.7132 - acc: 0.7562 - val_loss: 0.8039 - val_acc: 0.7390\n",
            "Epoch 39/100\n",
            "45000/45000 [==============================] - 8s 175us/sample - loss: 0.7256 - acc: 0.7542 - val_loss: 0.7955 - val_acc: 0.7320\n",
            "Epoch 40/100\n",
            "45000/45000 [==============================] - 8s 173us/sample - loss: 0.7235 - acc: 0.7545 - val_loss: 0.8014 - val_acc: 0.7450\n",
            "Epoch 41/100\n",
            "45000/45000 [==============================] - 8s 175us/sample - loss: 0.7275 - acc: 0.7543 - val_loss: 0.7622 - val_acc: 0.7408\n",
            "Epoch 42/100\n",
            "45000/45000 [==============================] - 8s 180us/sample - loss: 0.7138 - acc: 0.7593 - val_loss: 0.8152 - val_acc: 0.7264\n",
            "Epoch 43/100\n",
            "45000/45000 [==============================] - 8s 176us/sample - loss: 0.7234 - acc: 0.7556 - val_loss: 0.7726 - val_acc: 0.7470\n",
            "Epoch 44/100\n",
            "45000/45000 [==============================] - 8s 174us/sample - loss: 0.7164 - acc: 0.7594 - val_loss: 0.7775 - val_acc: 0.7458\n",
            "Epoch 45/100\n",
            "45000/45000 [==============================] - 8s 175us/sample - loss: 0.7002 - acc: 0.7610 - val_loss: 0.8588 - val_acc: 0.7230\n",
            "Epoch 46/100\n",
            "45000/45000 [==============================] - 8s 174us/sample - loss: 0.6917 - acc: 0.7660 - val_loss: 0.7760 - val_acc: 0.7378\n",
            "Epoch 47/100\n",
            "45000/45000 [==============================] - 8s 175us/sample - loss: 0.6992 - acc: 0.7630 - val_loss: 0.7984 - val_acc: 0.7352\n",
            "Epoch 48/100\n",
            "45000/45000 [==============================] - 8s 177us/sample - loss: 0.7053 - acc: 0.7622 - val_loss: 0.7796 - val_acc: 0.7416\n",
            "Epoch 49/100\n",
            "45000/45000 [==============================] - 8s 174us/sample - loss: 0.6859 - acc: 0.7678 - val_loss: 0.7894 - val_acc: 0.7414\n",
            "Epoch 50/100\n",
            "45000/45000 [==============================] - 8s 176us/sample - loss: 0.6776 - acc: 0.7684 - val_loss: 0.8070 - val_acc: 0.7406\n",
            "Epoch 51/100\n",
            "45000/45000 [==============================] - 8s 175us/sample - loss: 0.7023 - acc: 0.7631 - val_loss: 0.7975 - val_acc: 0.7444\n",
            "Epoch 52/100\n",
            "45000/45000 [==============================] - 8s 174us/sample - loss: 0.6937 - acc: 0.7667 - val_loss: 0.8343 - val_acc: 0.7334\n",
            "Epoch 53/100\n",
            "45000/45000 [==============================] - 8s 175us/sample - loss: 0.6887 - acc: 0.7684 - val_loss: 0.8181 - val_acc: 0.7328\n",
            "Epoch 54/100\n",
            "45000/45000 [==============================] - 8s 174us/sample - loss: 0.6947 - acc: 0.7661 - val_loss: 0.7939 - val_acc: 0.7480\n",
            "Epoch 55/100\n",
            "45000/45000 [==============================] - 8s 175us/sample - loss: 0.6735 - acc: 0.7727 - val_loss: 0.8385 - val_acc: 0.7248\n",
            "Epoch 56/100\n",
            "45000/45000 [==============================] - 8s 174us/sample - loss: 0.6884 - acc: 0.7689 - val_loss: 0.8480 - val_acc: 0.7322\n",
            "Epoch 57/100\n",
            "45000/45000 [==============================] - 8s 174us/sample - loss: 0.6739 - acc: 0.7732 - val_loss: 0.7894 - val_acc: 0.7396\n",
            "Epoch 58/100\n",
            "45000/45000 [==============================] - 8s 176us/sample - loss: 0.6732 - acc: 0.7736 - val_loss: 0.8345 - val_acc: 0.7274\n",
            "Epoch 59/100\n",
            "45000/45000 [==============================] - 8s 174us/sample - loss: 0.6706 - acc: 0.7744 - val_loss: 0.8657 - val_acc: 0.7322\n",
            "Epoch 60/100\n",
            "45000/45000 [==============================] - 8s 174us/sample - loss: 0.6944 - acc: 0.7679 - val_loss: 0.8786 - val_acc: 0.7128\n",
            "Epoch 61/100\n",
            "45000/45000 [==============================] - 8s 174us/sample - loss: 0.6670 - acc: 0.7771 - val_loss: 0.8427 - val_acc: 0.7316\n",
            "Epoch 62/100\n",
            "45000/45000 [==============================] - 8s 175us/sample - loss: 0.6663 - acc: 0.7770 - val_loss: 0.8211 - val_acc: 0.7314\n",
            "Epoch 63/100\n",
            "45000/45000 [==============================] - 8s 174us/sample - loss: 0.6648 - acc: 0.7758 - val_loss: 0.8730 - val_acc: 0.7208\n",
            "Epoch 64/100\n",
            "45000/45000 [==============================] - 8s 174us/sample - loss: 0.6822 - acc: 0.7706 - val_loss: 0.8436 - val_acc: 0.7210\n",
            "Epoch 65/100\n",
            "45000/45000 [==============================] - 8s 175us/sample - loss: 0.6740 - acc: 0.7747 - val_loss: 0.8148 - val_acc: 0.7364\n",
            "Epoch 66/100\n",
            "45000/45000 [==============================] - 8s 174us/sample - loss: 0.6589 - acc: 0.7799 - val_loss: 0.8030 - val_acc: 0.7444\n",
            "Epoch 67/100\n",
            "45000/45000 [==============================] - 8s 175us/sample - loss: 0.6530 - acc: 0.7817 - val_loss: 0.8486 - val_acc: 0.7194\n",
            "Epoch 68/100\n",
            "45000/45000 [==============================] - 8s 175us/sample - loss: 0.6442 - acc: 0.7856 - val_loss: 0.8586 - val_acc: 0.7262\n",
            "Epoch 69/100\n",
            "45000/45000 [==============================] - 8s 175us/sample - loss: 0.6598 - acc: 0.7807 - val_loss: 0.8433 - val_acc: 0.7384\n",
            "Epoch 70/100\n",
            "45000/45000 [==============================] - 8s 175us/sample - loss: 0.6664 - acc: 0.7794 - val_loss: 0.8529 - val_acc: 0.7242\n",
            "Epoch 71/100\n",
            "45000/45000 [==============================] - 8s 174us/sample - loss: 0.6585 - acc: 0.7810 - val_loss: 0.8437 - val_acc: 0.7296\n",
            "Epoch 72/100\n",
            "45000/45000 [==============================] - 8s 173us/sample - loss: 0.6389 - acc: 0.7856 - val_loss: 0.7966 - val_acc: 0.7480\n",
            "Epoch 73/100\n",
            "45000/45000 [==============================] - 8s 174us/sample - loss: 0.6445 - acc: 0.7851 - val_loss: 0.8019 - val_acc: 0.7364\n",
            "Epoch 74/100\n",
            "45000/45000 [==============================] - 8s 174us/sample - loss: 0.6354 - acc: 0.7849 - val_loss: 0.7848 - val_acc: 0.7576\n",
            "Epoch 75/100\n",
            "45000/45000 [==============================] - 8s 176us/sample - loss: 0.6330 - acc: 0.7865 - val_loss: 0.8814 - val_acc: 0.7208\n",
            "Epoch 76/100\n",
            "45000/45000 [==============================] - 8s 174us/sample - loss: 0.6315 - acc: 0.7916 - val_loss: 0.7854 - val_acc: 0.7560\n",
            "Epoch 77/100\n",
            "45000/45000 [==============================] - 8s 174us/sample - loss: 0.6409 - acc: 0.7849 - val_loss: 0.8312 - val_acc: 0.7372\n",
            "Epoch 78/100\n",
            "45000/45000 [==============================] - 8s 175us/sample - loss: 0.6329 - acc: 0.7882 - val_loss: 0.7841 - val_acc: 0.7510\n",
            "Epoch 79/100\n",
            "45000/45000 [==============================] - 8s 175us/sample - loss: 0.6551 - acc: 0.7805 - val_loss: 0.8263 - val_acc: 0.7424\n",
            "Epoch 80/100\n",
            "45000/45000 [==============================] - 8s 174us/sample - loss: 0.6321 - acc: 0.7886 - val_loss: 0.8169 - val_acc: 0.7528\n",
            "Epoch 81/100\n",
            "45000/45000 [==============================] - 8s 177us/sample - loss: 0.6367 - acc: 0.7884 - val_loss: 0.8318 - val_acc: 0.7268\n",
            "Epoch 82/100\n",
            "45000/45000 [==============================] - 8s 180us/sample - loss: 0.6260 - acc: 0.7912 - val_loss: 0.8089 - val_acc: 0.7498\n",
            "Epoch 83/100\n",
            "45000/45000 [==============================] - 8s 174us/sample - loss: 0.6190 - acc: 0.7940 - val_loss: 0.8357 - val_acc: 0.7280\n",
            "Epoch 84/100\n",
            "45000/45000 [==============================] - 8s 175us/sample - loss: 0.6222 - acc: 0.7928 - val_loss: 0.9256 - val_acc: 0.7340\n",
            "Epoch 85/100\n",
            "45000/45000 [==============================] - 8s 174us/sample - loss: 0.6221 - acc: 0.7934 - val_loss: 0.8446 - val_acc: 0.7496\n",
            "Epoch 86/100\n",
            "45000/45000 [==============================] - 8s 175us/sample - loss: 0.6280 - acc: 0.7911 - val_loss: 0.8623 - val_acc: 0.7224\n",
            "Epoch 87/100\n",
            "45000/45000 [==============================] - 8s 173us/sample - loss: 0.6136 - acc: 0.7956 - val_loss: 0.8256 - val_acc: 0.7370\n",
            "Epoch 88/100\n",
            "45000/45000 [==============================] - 8s 174us/sample - loss: 0.6200 - acc: 0.7958 - val_loss: 1.2874 - val_acc: 0.5596\n",
            "Epoch 89/100\n",
            "45000/45000 [==============================] - 8s 175us/sample - loss: 0.6230 - acc: 0.7908 - val_loss: 0.8352 - val_acc: 0.7542\n",
            "Epoch 90/100\n",
            "45000/45000 [==============================] - 8s 174us/sample - loss: 0.6282 - acc: 0.7915 - val_loss: 0.8261 - val_acc: 0.7400\n",
            "Epoch 91/100\n",
            "45000/45000 [==============================] - 8s 174us/sample - loss: 0.6268 - acc: 0.7943 - val_loss: 0.8095 - val_acc: 0.7426\n",
            "Epoch 92/100\n",
            "45000/45000 [==============================] - 8s 173us/sample - loss: 0.6225 - acc: 0.7930 - val_loss: 0.8488 - val_acc: 0.7468\n",
            "Epoch 93/100\n",
            "45000/45000 [==============================] - 8s 172us/sample - loss: 0.6076 - acc: 0.8012 - val_loss: 0.8835 - val_acc: 0.7068\n",
            "Epoch 94/100\n",
            "45000/45000 [==============================] - 8s 174us/sample - loss: 0.6011 - acc: 0.8002 - val_loss: 0.8022 - val_acc: 0.7464\n",
            "Epoch 95/100\n",
            "45000/45000 [==============================] - 8s 174us/sample - loss: 0.6036 - acc: 0.7991 - val_loss: 0.8181 - val_acc: 0.7352\n",
            "Epoch 96/100\n",
            "45000/45000 [==============================] - 8s 173us/sample - loss: 0.6024 - acc: 0.7998 - val_loss: 0.8199 - val_acc: 0.7482\n",
            "Epoch 97/100\n",
            "45000/45000 [==============================] - 8s 173us/sample - loss: 0.6026 - acc: 0.8012 - val_loss: 0.8051 - val_acc: 0.7392\n",
            "Epoch 98/100\n",
            "45000/45000 [==============================] - 8s 173us/sample - loss: 0.6316 - acc: 0.7902 - val_loss: 0.8704 - val_acc: 0.7218\n",
            "Epoch 99/100\n",
            "45000/45000 [==============================] - 8s 174us/sample - loss: 0.6207 - acc: 0.7948 - val_loss: 0.8451 - val_acc: 0.7328\n",
            "Epoch 100/100\n",
            "45000/45000 [==============================] - 8s 173us/sample - loss: 0.6116 - acc: 0.7966 - val_loss: 0.8459 - val_acc: 0.7396\n"
          ],
          "name": "stdout"
        },
        {
          "output_type": "execute_result",
          "data": {
            "text/plain": [
              "<tensorflow.python.keras.callbacks.History at 0x7f9a635494e0>"
            ]
          },
          "metadata": {
            "tags": []
          },
          "execution_count": 163
        }
      ]
    },
    {
      "cell_type": "code",
      "metadata": {
        "id": "0CZFA0yW_A4r",
        "colab_type": "code",
        "colab": {
          "base_uri": "https://localhost:8080/",
          "height": 53
        },
        "outputId": "438c2dfa-9f9f-40f0-e71f-366c6baae566"
      },
      "source": [
        "%load_ext tensorboard"
      ],
      "execution_count": 106,
      "outputs": [
        {
          "output_type": "stream",
          "text": [
            "The tensorboard extension is already loaded. To reload it, use:\n",
            "  %reload_ext tensorboard\n"
          ],
          "name": "stdout"
        }
      ]
    },
    {
      "cell_type": "code",
      "metadata": {
        "id": "GKjDMYBc_EDw",
        "colab_type": "code",
        "colab": {
          "base_uri": "https://localhost:8080/",
          "height": 35
        },
        "outputId": "85f33f12-3182-46c0-f9d1-0f88a60899a4"
      },
      "source": [
        "%tensorboard --logdir logs"
      ],
      "execution_count": 104,
      "outputs": [
        {
          "output_type": "display_data",
          "data": {
            "text/plain": [
              "Reusing TensorBoard on port 6006 (pid 558), started 0:00:55 ago. (Use '!kill 558' to kill it.)"
            ]
          },
          "metadata": {
            "tags": []
          }
        },
        {
          "output_type": "display_data",
          "data": {
            "text/html": [
              "\n",
              "    <div id=\"root\"></div>\n",
              "    <script>\n",
              "      (function() {\n",
              "        window.TENSORBOARD_ENV = window.TENSORBOARD_ENV || {};\n",
              "        window.TENSORBOARD_ENV[\"IN_COLAB\"] = true;\n",
              "        document.querySelector(\"base\").href = \"https://localhost:6006\";\n",
              "        function fixUpTensorboard(root) {\n",
              "          const tftb = root.querySelector(\"tf-tensorboard\");\n",
              "          // Disable the fragment manipulation behavior in Colab. Not\n",
              "          // only is the behavior not useful (as the iframe's location\n",
              "          // is not visible to the user), it causes TensorBoard's usage\n",
              "          // of `window.replace` to navigate away from the page and to\n",
              "          // the `localhost:<port>` URL specified by the base URI, which\n",
              "          // in turn causes the frame to (likely) crash.\n",
              "          tftb.removeAttribute(\"use-hash\");\n",
              "        }\n",
              "        function executeAllScripts(root) {\n",
              "          // When `script` elements are inserted into the DOM by\n",
              "          // assigning to an element's `innerHTML`, the scripts are not\n",
              "          // executed. Thus, we manually re-insert these scripts so that\n",
              "          // TensorBoard can initialize itself.\n",
              "          for (const script of root.querySelectorAll(\"script\")) {\n",
              "            const newScript = document.createElement(\"script\");\n",
              "            newScript.type = script.type;\n",
              "            newScript.textContent = script.textContent;\n",
              "            root.appendChild(newScript);\n",
              "            script.remove();\n",
              "          }\n",
              "        }\n",
              "        function setHeight(root, height) {\n",
              "          // We set the height dynamically after the TensorBoard UI has\n",
              "          // been initialized. This avoids an intermediate state in\n",
              "          // which the container plus the UI become taller than the\n",
              "          // final width and cause the Colab output frame to be\n",
              "          // permanently resized, eventually leading to an empty\n",
              "          // vertical gap below the TensorBoard UI. It's not clear\n",
              "          // exactly what causes this problematic intermediate state,\n",
              "          // but setting the height late seems to fix it.\n",
              "          root.style.height = `${height}px`;\n",
              "        }\n",
              "        const root = document.getElementById(\"root\");\n",
              "        fetch(\".\")\n",
              "          .then((x) => x.text())\n",
              "          .then((html) => void (root.innerHTML = html))\n",
              "          .then(() => fixUpTensorboard(root))\n",
              "          .then(() => executeAllScripts(root))\n",
              "          .then(() => setHeight(root, 800));\n",
              "      })();\n",
              "    </script>\n",
              "  "
            ],
            "text/plain": [
              "<IPython.core.display.HTML object>"
            ]
          },
          "metadata": {
            "tags": []
          }
        }
      ]
    },
    {
      "cell_type": "code",
      "metadata": {
        "id": "i7c7SQvBNlzQ",
        "colab_type": "code",
        "colab": {}
      },
      "source": [
        ""
      ],
      "execution_count": 0,
      "outputs": []
    }
  ]
}