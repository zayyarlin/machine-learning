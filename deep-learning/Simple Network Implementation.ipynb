{
 "cells": [
  {
   "cell_type": "markdown",
   "metadata": {},
   "source": [
    "## Implement a  network that can distinguish MNIST hand written digits\n",
    "\n",
    "based on Michael Neilson's nn book: http://neuralnetworksanddeeplearning.com/chap1.html"
   ]
  },
  {
   "cell_type": "code",
   "execution_count": 63,
   "metadata": {},
   "outputs": [],
   "source": [
    "import numpy as np\n",
    "import matplotlib.pyplot as plt\n",
    "\n",
    "import pickle\n",
    "import gzip\n",
    "import random"
   ]
  },
  {
   "cell_type": "code",
   "execution_count": 64,
   "metadata": {},
   "outputs": [],
   "source": [
    "# Load MNIST data set\n",
    "def load_data(file_loc):\n",
    "    with gzip.open(file_loc, 'rb') as file:\n",
    "        training_data, validation_data, test_data = pickle.load(file, encoding='latin1')\n",
    "    return (training_data, validation_data, test_data)"
   ]
  },
  {
   "cell_type": "code",
   "execution_count": 65,
   "metadata": {},
   "outputs": [],
   "source": [
    "def vectorize_result(y):\n",
    "    e = np.zeros((10,1))\n",
    "    e[y] = 1.0\n",
    "    return e"
   ]
  },
  {
   "cell_type": "code",
   "execution_count": 66,
   "metadata": {},
   "outputs": [],
   "source": [
    "def load_mnist(file_loc):\n",
    "    tr_data, val_data, test_data = load_data(file_loc)\n",
    "    training_inputs = [np.reshape(x, (784, 1)) for x in tr_data[0]]\n",
    "    training_results = [vectorize_result(y) for y in tr_data[1]]\n",
    "    training_data = list(zip(training_inputs, training_results))\n",
    "    \n",
    "    validation_inputs = [np.reshape(x, (784, 1)) for x in val_data[0]]\n",
    "    validation_data = list(zip(validation_inputs, val_data[1]))\n",
    "    \n",
    "    test_inputs = [np.reshape(x, (784, 1)) for x in test_data[0]]\n",
    "    test_data = list(zip(test_inputs, test_data[1]))\n",
    "    return (training_data, validation_data, test_data)"
   ]
  },
  {
   "cell_type": "code",
   "execution_count": 67,
   "metadata": {},
   "outputs": [],
   "source": [
    "def sigmoid(z):\n",
    "    return 1.0/(1.0 + np.exp(-z))\n",
    "\n",
    "def sigmoid_prime(z):\n",
    "    return sigmoid(z) * (1 - sigmoid(z))"
   ]
  },
  {
   "cell_type": "code",
   "execution_count": 80,
   "metadata": {},
   "outputs": [],
   "source": [
    "class Network:\n",
    "    \n",
    "    def __init__(self, sizes):\n",
    "        self.sizes = sizes\n",
    "        self.num_layers = len(sizes)\n",
    "        self.weights = [np.random.randn(y, x) for x, y in list(zip(sizes[:-1], sizes[1:]))]\n",
    "        self.biases = [np.random.randn(y, 1) for y in sizes[1:]]\n",
    "    \n",
    "    def feed_fwd(self, a):\n",
    "        for w, b in list(zip(self.weights, self.biases)):\n",
    "            a = sigmoid(np.dot(w,a) + b)\n",
    "        return a\n",
    "    \n",
    "    def evaluate(self, test_data):\n",
    "        test_results = [(np.argmax(self.feed_fwd(x)), y) for (x, y) in test_data]\n",
    "        return sum(int(x == y) for (x, y) in test_results)\n",
    "    \n",
    "    def cost_derivative(self, a, y):\n",
    "        return a - y\n",
    "    \n",
    "    def SGD(self, train_data, epochs, mini_batch_size, eta, test_data=None):\n",
    "        if test_data:\n",
    "            n_test = len(test_data)\n",
    "        n = len(train_data)\n",
    "        for j in range(epochs):\n",
    "            random.shuffle(training_data)\n",
    "            mini_batches = [train_data[k: k + mini_batch_size] for k in range(0, n, mini_batch_size)]\n",
    "            for mini_batch in mini_batches:\n",
    "                self.update_mini_batch(mini_batch, eta)\n",
    "            if test_data:\n",
    "                print(f\"Epoch {j}: {self.evaluate(test_data)}, {n_test}\")\n",
    "            else:\n",
    "                print(f\"Epoch {j}\")\n",
    "    \n",
    "    def update_mini_batch(self, mini_batch, eta):\n",
    "        m = len(mini_batch)\n",
    "        nabla_w = [np.zeros(w.shape) for w in self.weights]\n",
    "        nabla_b = [np.zeros(b.shape) for b in self.biases]\n",
    "        for x, y in mini_batch:\n",
    "            # delta_nabla_w is nabla_w for each training example x derived using backprop\n",
    "            delta_nabla_w, delta_nabla_b = self.back_prop(x, y)\n",
    "            \n",
    "            # then we accumulate the nablas contributed by all the training examples in the mini_batch in nabla_w\n",
    "            nabla_w = [nw + dnw for nw, dnw in list(zip(nabla_w, delta_nabla_w))]\n",
    "            nabla_b = [nb + dnb for nb, dnb in list(zip(nabla_b, delta_nabla_b))]\n",
    "        self.weights = [w - (eta/m) * nw for w, nw in list(zip(self.weights, nabla_w))]\n",
    "        self.biases  = [b - (eta/m) * nb for b, nb in list(zip(self.biases, nabla_b))]\n",
    "    \n",
    "    def back_prop(self, x, y):\n",
    "        nabla_w = [np.zeros(w.shape) for w in self.weights]\n",
    "        nabla_b = [np.zeros(b.shape) for b in self.biases]\n",
    "        \n",
    "        # feed fwd\n",
    "        activations = [x]\n",
    "        zs = []\n",
    "        for w, b in list(zip(self.weights, self.biases)):\n",
    "            z = np.dot(w, activations[-1]) + b\n",
    "            zs.append(z)\n",
    "            activations.append(sigmoid(z))\n",
    "            \n",
    "        # backward pass\n",
    "        delta = self.cost_derivative(activations[-1], y) * sigmoid_prime(zs[-1])\n",
    "        nabla_w[-1] = np.dot(delta, activations[-2].transpose())\n",
    "        nabla_b[-1] = delta\n",
    "        \n",
    "        for l in range(2, self.num_layers):\n",
    "            z = zs[-l]\n",
    "            sp = sigmoid_prime(z)\n",
    "            delta = np.dot(self.weights[-l+1].transpose(), delta) * sp\n",
    "            nabla_w[-l] = np.dot(delta, activations[-l-1].transpose())\n",
    "            nabla_b[-l] = delta\n",
    "        return (nabla_w, nabla_b)"
   ]
  },
  {
   "cell_type": "code",
   "execution_count": 81,
   "metadata": {},
   "outputs": [
    {
     "name": "stdout",
     "output_type": "stream",
     "text": [
      "Epoch 0: 9068, 10000\n",
      "Epoch 1: 9214, 10000\n",
      "Epoch 2: 9260, 10000\n",
      "Epoch 3: 9274, 10000\n",
      "Epoch 4: 9346, 10000\n",
      "Epoch 5: 9340, 10000\n",
      "Epoch 6: 9378, 10000\n",
      "Epoch 7: 9383, 10000\n",
      "Epoch 8: 9382, 10000\n",
      "Epoch 9: 9401, 10000\n",
      "Epoch 10: 9409, 10000\n",
      "Epoch 11: 9434, 10000\n",
      "Epoch 12: 9419, 10000\n",
      "Epoch 13: 9398, 10000\n",
      "Epoch 14: 9430, 10000\n",
      "Epoch 15: 9436, 10000\n",
      "Epoch 16: 9427, 10000\n",
      "Epoch 17: 9423, 10000\n",
      "Epoch 18: 9408, 10000\n",
      "Epoch 19: 9433, 10000\n",
      "Epoch 20: 9447, 10000\n",
      "Epoch 21: 9434, 10000\n",
      "Epoch 22: 9469, 10000\n",
      "Epoch 23: 9460, 10000\n",
      "Epoch 24: 9457, 10000\n",
      "Epoch 25: 9450, 10000\n",
      "Epoch 26: 9463, 10000\n",
      "Epoch 27: 9453, 10000\n",
      "Epoch 28: 9445, 10000\n",
      "Epoch 29: 9453, 10000\n"
     ]
    }
   ],
   "source": [
    "train_data, val_data, test_data = load_mnist('../data/mnist.pkl.gz')\n",
    "net = Network([784, 30, 10])\n",
    "net.SGD(train_data, 30, 10, 3.0, test_data=test_data)"
   ]
  },
  {
   "cell_type": "code",
   "execution_count": null,
   "metadata": {},
   "outputs": [],
   "source": []
  }
 ],
 "metadata": {
  "kernelspec": {
   "display_name": "Python 3",
   "language": "python",
   "name": "python3"
  },
  "language_info": {
   "codemirror_mode": {
    "name": "ipython",
    "version": 3
   },
   "file_extension": ".py",
   "mimetype": "text/x-python",
   "name": "python",
   "nbconvert_exporter": "python",
   "pygments_lexer": "ipython3",
   "version": "3.7.3"
  }
 },
 "nbformat": 4,
 "nbformat_minor": 2
}
